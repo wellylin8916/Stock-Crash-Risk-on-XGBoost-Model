{
 "cells": [
  {
   "cell_type": "code",
   "execution_count": 4,
   "id": "8b58c595",
   "metadata": {},
   "outputs": [],
   "source": [
    "import pandas as pd\n",
    "import numpy as np"
   ]
  },
  {
   "cell_type": "code",
   "execution_count": 29,
   "id": "2a3b8ee3",
   "metadata": {},
   "outputs": [],
   "source": [
    "Manager_holding=pd.read_table(r\"C:\\Users\\USER\\Desktop\\論文\\原始資料上市下市\\持股比例(季)上下市櫃董監全體持股.txt\",encoding = 'ANSI')"
   ]
  },
  {
   "cell_type": "code",
   "execution_count": 32,
   "id": "482ed5b3",
   "metadata": {},
   "outputs": [
    {
     "data": {
      "text/html": [
       "<div>\n",
       "<style scoped>\n",
       "    .dataframe tbody tr th:only-of-type {\n",
       "        vertical-align: middle;\n",
       "    }\n",
       "\n",
       "    .dataframe tbody tr th {\n",
       "        vertical-align: top;\n",
       "    }\n",
       "\n",
       "    .dataframe thead th {\n",
       "        text-align: right;\n",
       "    }\n",
       "</style>\n",
       "<table border=\"1\" class=\"dataframe\">\n",
       "  <thead>\n",
       "    <tr style=\"text-align: right;\">\n",
       "      <th></th>\n",
       "      <th>公司代碼</th>\n",
       "      <th>簡稱</th>\n",
       "      <th>TSE 產業別</th>\n",
       "      <th>年月日</th>\n",
       "      <th>經理人持股%</th>\n",
       "      <th>經理人持股% (含兼董監)</th>\n",
       "      <th>經理人總持股%</th>\n",
       "      <th>經理人總持股% (含兼董監)</th>\n",
       "    </tr>\n",
       "  </thead>\n",
       "  <tbody>\n",
       "    <tr>\n",
       "      <th>0</th>\n",
       "      <td>1101</td>\n",
       "      <td>台泥</td>\n",
       "      <td>1</td>\n",
       "      <td>1993/03</td>\n",
       "      <td>0.08</td>\n",
       "      <td>0.08</td>\n",
       "      <td>0.08</td>\n",
       "      <td>0.08</td>\n",
       "    </tr>\n",
       "    <tr>\n",
       "      <th>242</th>\n",
       "      <td>1101</td>\n",
       "      <td>台泥</td>\n",
       "      <td>1</td>\n",
       "      <td>1993/06</td>\n",
       "      <td>0.08</td>\n",
       "      <td>0.08</td>\n",
       "      <td>0.08</td>\n",
       "      <td>0.08</td>\n",
       "    </tr>\n",
       "    <tr>\n",
       "      <th>496</th>\n",
       "      <td>1101</td>\n",
       "      <td>台泥</td>\n",
       "      <td>1</td>\n",
       "      <td>1993/09</td>\n",
       "      <td>0.09</td>\n",
       "      <td>0.09</td>\n",
       "      <td>0.09</td>\n",
       "      <td>0.09</td>\n",
       "    </tr>\n",
       "    <tr>\n",
       "      <th>751</th>\n",
       "      <td>1101</td>\n",
       "      <td>台泥</td>\n",
       "      <td>1</td>\n",
       "      <td>1993/12</td>\n",
       "      <td>0.09</td>\n",
       "      <td>0.09</td>\n",
       "      <td>0.09</td>\n",
       "      <td>0.09</td>\n",
       "    </tr>\n",
       "    <tr>\n",
       "      <th>1014</th>\n",
       "      <td>1101</td>\n",
       "      <td>台泥</td>\n",
       "      <td>1</td>\n",
       "      <td>1994/03</td>\n",
       "      <td>0.09</td>\n",
       "      <td>0.09</td>\n",
       "      <td>0.09</td>\n",
       "      <td>0.09</td>\n",
       "    </tr>\n",
       "    <tr>\n",
       "      <th>...</th>\n",
       "      <td>...</td>\n",
       "      <td>...</td>\n",
       "      <td>...</td>\n",
       "      <td>...</td>\n",
       "      <td>...</td>\n",
       "      <td>...</td>\n",
       "      <td>...</td>\n",
       "      <td>...</td>\n",
       "    </tr>\n",
       "    <tr>\n",
       "      <th>144164</th>\n",
       "      <td>1101</td>\n",
       "      <td>台泥</td>\n",
       "      <td>1</td>\n",
       "      <td>2022/03</td>\n",
       "      <td>0.12</td>\n",
       "      <td>0.12</td>\n",
       "      <td>0.13</td>\n",
       "      <td>0.13</td>\n",
       "    </tr>\n",
       "    <tr>\n",
       "      <th>145895</th>\n",
       "      <td>1101</td>\n",
       "      <td>台泥</td>\n",
       "      <td>1</td>\n",
       "      <td>2022/06</td>\n",
       "      <td>0.12</td>\n",
       "      <td>0.12</td>\n",
       "      <td>0.15</td>\n",
       "      <td>0.15</td>\n",
       "    </tr>\n",
       "    <tr>\n",
       "      <th>147624</th>\n",
       "      <td>1101</td>\n",
       "      <td>台泥</td>\n",
       "      <td>1</td>\n",
       "      <td>2022/09</td>\n",
       "      <td>0.11</td>\n",
       "      <td>0.11</td>\n",
       "      <td>0.14</td>\n",
       "      <td>0.14</td>\n",
       "    </tr>\n",
       "    <tr>\n",
       "      <th>149350</th>\n",
       "      <td>1101</td>\n",
       "      <td>台泥</td>\n",
       "      <td>1</td>\n",
       "      <td>2022/12</td>\n",
       "      <td>0.10</td>\n",
       "      <td>0.10</td>\n",
       "      <td>0.13</td>\n",
       "      <td>0.13</td>\n",
       "    </tr>\n",
       "    <tr>\n",
       "      <th>151075</th>\n",
       "      <td>1101</td>\n",
       "      <td>台泥</td>\n",
       "      <td>1</td>\n",
       "      <td>2023/03</td>\n",
       "      <td>0.10</td>\n",
       "      <td>0.10</td>\n",
       "      <td>0.13</td>\n",
       "      <td>0.13</td>\n",
       "    </tr>\n",
       "  </tbody>\n",
       "</table>\n",
       "<p>121 rows × 8 columns</p>\n",
       "</div>"
      ],
      "text/plain": [
       "        公司代碼  簡稱  TSE 產業別      年月日  經理人持股%  經理人持股% (含兼董監)  經理人總持股%  \\\n",
       "0       1101  台泥        1  1993/03    0.08           0.08     0.08   \n",
       "242     1101  台泥        1  1993/06    0.08           0.08     0.08   \n",
       "496     1101  台泥        1  1993/09    0.09           0.09     0.09   \n",
       "751     1101  台泥        1  1993/12    0.09           0.09     0.09   \n",
       "1014    1101  台泥        1  1994/03    0.09           0.09     0.09   \n",
       "...      ...  ..      ...      ...     ...            ...      ...   \n",
       "144164  1101  台泥        1  2022/03    0.12           0.12     0.13   \n",
       "145895  1101  台泥        1  2022/06    0.12           0.12     0.15   \n",
       "147624  1101  台泥        1  2022/09    0.11           0.11     0.14   \n",
       "149350  1101  台泥        1  2022/12    0.10           0.10     0.13   \n",
       "151075  1101  台泥        1  2023/03    0.10           0.10     0.13   \n",
       "\n",
       "        經理人總持股% (含兼董監)  \n",
       "0                 0.08  \n",
       "242               0.08  \n",
       "496               0.09  \n",
       "751               0.09  \n",
       "1014              0.09  \n",
       "...                ...  \n",
       "144164            0.13  \n",
       "145895            0.15  \n",
       "147624            0.14  \n",
       "149350            0.13  \n",
       "151075            0.13  \n",
       "\n",
       "[121 rows x 8 columns]"
      ]
     },
     "execution_count": 32,
     "metadata": {},
     "output_type": "execute_result"
    }
   ],
   "source": [
    "Manager_holding[Manager_holding['公司代碼']=='1101']"
   ]
  },
  {
   "cell_type": "code",
   "execution_count": null,
   "id": "ce0db71f",
   "metadata": {},
   "outputs": [],
   "source": []
  },
  {
   "cell_type": "code",
   "execution_count": 7,
   "id": "b004f2e7",
   "metadata": {},
   "outputs": [
    {
     "name": "stdout",
     "output_type": "stream",
     "text": [
      "<class 'pandas.core.frame.DataFrame'>\n",
      "RangeIndex: 156898 entries, 0 to 156897\n",
      "Data columns (total 8 columns):\n",
      " #   Column          Non-Null Count   Dtype  \n",
      "---  ------          --------------   -----  \n",
      " 0   公司代碼            156898 non-null  object \n",
      " 1   簡稱              156898 non-null  object \n",
      " 2   TSE 產業別         156898 non-null  int64  \n",
      " 3   年月日             156898 non-null  object \n",
      " 4   經理人持股%          156898 non-null  float64\n",
      " 5   經理人持股% (含兼董監)   156898 non-null  float64\n",
      " 6   經理人總持股%         156898 non-null  float64\n",
      " 7   經理人總持股% (含兼董監)  156898 non-null  float64\n",
      "dtypes: float64(4), int64(1), object(3)\n",
      "memory usage: 9.6+ MB\n"
     ]
    }
   ],
   "source": [
    "Manager_holding.info()"
   ]
  },
  {
   "cell_type": "code",
   "execution_count": 22,
   "id": "d09b1881",
   "metadata": {},
   "outputs": [
    {
     "data": {
      "text/plain": [
       "465194"
      ]
     },
     "execution_count": 22,
     "metadata": {},
     "output_type": "execute_result"
    }
   ],
   "source": [
    "len(Manager_holding[\"公司代碼\"])"
   ]
  },
  {
   "cell_type": "code",
   "execution_count": 31,
   "id": "0e12b897",
   "metadata": {},
   "outputs": [],
   "source": [
    "Manager_holding[\"公司代碼\"]=Manager_holding[\"公司代碼\"].astype(str)\n",
    "Manager_holding['公司代碼'].replace('\\s+','',regex=True,inplace=True)\n",
    "Manager_holding[\"簡稱\"]=Manager_holding[\"簡稱\"].astype(str)\n",
    "Manager_holding['簡稱'].replace('\\s+','',regex=True,inplace=True)"
   ]
  },
  {
   "cell_type": "code",
   "execution_count": null,
   "id": "e435d94c",
   "metadata": {},
   "outputs": [],
   "source": []
  },
  {
   "cell_type": "code",
   "execution_count": 10,
   "id": "707967b5",
   "metadata": {},
   "outputs": [],
   "source": [
    "Manager_holding.drop(Manager_holding[Manager_holding[\"TSE 產業別\"]==17].index,inplace=True)\n",
    "Manager_holding.reset_index(drop=True,inplace=True)"
   ]
  },
  {
   "cell_type": "code",
   "execution_count": 11,
   "id": "a37b0e7c",
   "metadata": {},
   "outputs": [],
   "source": [
    "Manager_holding[\"Id_m\"]=Manager_holding[\"公司代碼\"].astype(str)+Manager_holding[\"年月日\"]"
   ]
  },
  {
   "cell_type": "code",
   "execution_count": 12,
   "id": "ac3d5246",
   "metadata": {},
   "outputs": [
    {
     "data": {
      "text/html": [
       "<div>\n",
       "<style scoped>\n",
       "    .dataframe tbody tr th:only-of-type {\n",
       "        vertical-align: middle;\n",
       "    }\n",
       "\n",
       "    .dataframe tbody tr th {\n",
       "        vertical-align: top;\n",
       "    }\n",
       "\n",
       "    .dataframe thead th {\n",
       "        text-align: right;\n",
       "    }\n",
       "</style>\n",
       "<table border=\"1\" class=\"dataframe\">\n",
       "  <thead>\n",
       "    <tr style=\"text-align: right;\">\n",
       "      <th></th>\n",
       "      <th>公司代碼</th>\n",
       "      <th>簡稱</th>\n",
       "      <th>TSE 產業別</th>\n",
       "      <th>年月日</th>\n",
       "      <th>經理人持股%</th>\n",
       "      <th>經理人持股% (含兼董監)</th>\n",
       "      <th>經理人總持股%</th>\n",
       "      <th>經理人總持股% (含兼董監)</th>\n",
       "      <th>Id_m</th>\n",
       "    </tr>\n",
       "  </thead>\n",
       "  <tbody>\n",
       "    <tr>\n",
       "      <th>0</th>\n",
       "      <td>1101</td>\n",
       "      <td>台泥</td>\n",
       "      <td>1</td>\n",
       "      <td>1993/03</td>\n",
       "      <td>0.08</td>\n",
       "      <td>0.08</td>\n",
       "      <td>0.08</td>\n",
       "      <td>0.08</td>\n",
       "      <td>11011993/03</td>\n",
       "    </tr>\n",
       "    <tr>\n",
       "      <th>1</th>\n",
       "      <td>1102</td>\n",
       "      <td>亞泥</td>\n",
       "      <td>1</td>\n",
       "      <td>1993/03</td>\n",
       "      <td>0.00</td>\n",
       "      <td>0.02</td>\n",
       "      <td>0.00</td>\n",
       "      <td>0.02</td>\n",
       "      <td>11021993/03</td>\n",
       "    </tr>\n",
       "    <tr>\n",
       "      <th>2</th>\n",
       "      <td>1103</td>\n",
       "      <td>嘉泥</td>\n",
       "      <td>1</td>\n",
       "      <td>1993/03</td>\n",
       "      <td>0.04</td>\n",
       "      <td>0.39</td>\n",
       "      <td>0.04</td>\n",
       "      <td>0.39</td>\n",
       "      <td>11031993/03</td>\n",
       "    </tr>\n",
       "    <tr>\n",
       "      <th>3</th>\n",
       "      <td>1104</td>\n",
       "      <td>環泥</td>\n",
       "      <td>1</td>\n",
       "      <td>1993/03</td>\n",
       "      <td>0.13</td>\n",
       "      <td>0.14</td>\n",
       "      <td>0.13</td>\n",
       "      <td>0.14</td>\n",
       "      <td>11041993/03</td>\n",
       "    </tr>\n",
       "    <tr>\n",
       "      <th>4</th>\n",
       "      <td>1108</td>\n",
       "      <td>幸福</td>\n",
       "      <td>1</td>\n",
       "      <td>1993/03</td>\n",
       "      <td>0.15</td>\n",
       "      <td>4.86</td>\n",
       "      <td>0.15</td>\n",
       "      <td>4.86</td>\n",
       "      <td>11081993/03</td>\n",
       "    </tr>\n",
       "    <tr>\n",
       "      <th>...</th>\n",
       "      <td>...</td>\n",
       "      <td>...</td>\n",
       "      <td>...</td>\n",
       "      <td>...</td>\n",
       "      <td>...</td>\n",
       "      <td>...</td>\n",
       "      <td>...</td>\n",
       "      <td>...</td>\n",
       "      <td>...</td>\n",
       "    </tr>\n",
       "    <tr>\n",
       "      <th>148443</th>\n",
       "      <td>6594</td>\n",
       "      <td>展匯科</td>\n",
       "      <td>24</td>\n",
       "      <td>2022/12</td>\n",
       "      <td>1.36</td>\n",
       "      <td>1.36</td>\n",
       "      <td>1.36</td>\n",
       "      <td>1.36</td>\n",
       "      <td>65942022/12</td>\n",
       "    </tr>\n",
       "    <tr>\n",
       "      <th>148444</th>\n",
       "      <td>8287</td>\n",
       "      <td>英格爾</td>\n",
       "      <td>28</td>\n",
       "      <td>2022/12</td>\n",
       "      <td>0.09</td>\n",
       "      <td>0.14</td>\n",
       "      <td>0.09</td>\n",
       "      <td>0.14</td>\n",
       "      <td>82872022/12</td>\n",
       "    </tr>\n",
       "    <tr>\n",
       "      <th>148445</th>\n",
       "      <td>5801</td>\n",
       "      <td>第一金投</td>\n",
       "      <td>20</td>\n",
       "      <td>2023/03</td>\n",
       "      <td>0.00</td>\n",
       "      <td>0.00</td>\n",
       "      <td>0.00</td>\n",
       "      <td>0.00</td>\n",
       "      <td>58012023/03</td>\n",
       "    </tr>\n",
       "    <tr>\n",
       "      <th>148446</th>\n",
       "      <td>5901</td>\n",
       "      <td>中友</td>\n",
       "      <td>18</td>\n",
       "      <td>2023/03</td>\n",
       "      <td>1.38</td>\n",
       "      <td>1.38</td>\n",
       "      <td>1.38</td>\n",
       "      <td>1.38</td>\n",
       "      <td>59012023/03</td>\n",
       "    </tr>\n",
       "    <tr>\n",
       "      <th>148447</th>\n",
       "      <td>8287</td>\n",
       "      <td>英格爾</td>\n",
       "      <td>28</td>\n",
       "      <td>2023/03</td>\n",
       "      <td>0.09</td>\n",
       "      <td>0.14</td>\n",
       "      <td>0.09</td>\n",
       "      <td>0.14</td>\n",
       "      <td>82872023/03</td>\n",
       "    </tr>\n",
       "  </tbody>\n",
       "</table>\n",
       "<p>148448 rows × 9 columns</p>\n",
       "</div>"
      ],
      "text/plain": [
       "        公司代碼    簡稱  TSE 產業別      年月日  經理人持股%  經理人持股% (含兼董監)  經理人總持股%  \\\n",
       "0       1101    台泥        1  1993/03    0.08           0.08     0.08   \n",
       "1       1102    亞泥        1  1993/03    0.00           0.02     0.00   \n",
       "2       1103    嘉泥        1  1993/03    0.04           0.39     0.04   \n",
       "3       1104    環泥        1  1993/03    0.13           0.14     0.13   \n",
       "4       1108    幸福        1  1993/03    0.15           4.86     0.15   \n",
       "...      ...   ...      ...      ...     ...            ...      ...   \n",
       "148443  6594   展匯科       24  2022/12    1.36           1.36     1.36   \n",
       "148444  8287   英格爾       28  2022/12    0.09           0.14     0.09   \n",
       "148445  5801  第一金投       20  2023/03    0.00           0.00     0.00   \n",
       "148446  5901    中友       18  2023/03    1.38           1.38     1.38   \n",
       "148447  8287   英格爾       28  2023/03    0.09           0.14     0.09   \n",
       "\n",
       "        經理人總持股% (含兼董監)         Id_m  \n",
       "0                 0.08  11011993/03  \n",
       "1                 0.02  11021993/03  \n",
       "2                 0.39  11031993/03  \n",
       "3                 0.14  11041993/03  \n",
       "4                 4.86  11081993/03  \n",
       "...                ...          ...  \n",
       "148443            1.36  65942022/12  \n",
       "148444            0.14  82872022/12  \n",
       "148445            0.00  58012023/03  \n",
       "148446            1.38  59012023/03  \n",
       "148447            0.14  82872023/03  \n",
       "\n",
       "[148448 rows x 9 columns]"
      ]
     },
     "execution_count": 12,
     "metadata": {},
     "output_type": "execute_result"
    }
   ],
   "source": [
    "Manager_holding"
   ]
  },
  {
   "cell_type": "code",
   "execution_count": 13,
   "id": "cdb633a7",
   "metadata": {},
   "outputs": [],
   "source": [
    "Manager_holding.to_csv(r'C:\\Users\\USER\\Desktop\\論文\\程式碼\\周資料月處理\\整理資料\\持股比例(月)_整理.txt',sep='\\t', encoding=\"utf-8\",index=False)"
   ]
  },
  {
   "cell_type": "code",
   "execution_count": 11,
   "id": "eda532fc",
   "metadata": {},
   "outputs": [
    {
     "data": {
      "text/plain": [
       "str"
      ]
     },
     "execution_count": 11,
     "metadata": {},
     "output_type": "execute_result"
    }
   ],
   "source": [
    "type(Manager_holding['公司代碼'][131565])"
   ]
  },
  {
   "cell_type": "code",
   "execution_count": 12,
   "id": "9bc30286",
   "metadata": {},
   "outputs": [
    {
     "data": {
      "text/plain": [
       "'1101'"
      ]
     },
     "execution_count": 12,
     "metadata": {},
     "output_type": "execute_result"
    }
   ],
   "source": [
    "Manager_holding['公司代碼'][0]"
   ]
  },
  {
   "cell_type": "code",
   "execution_count": 13,
   "id": "723c9098",
   "metadata": {},
   "outputs": [
    {
     "data": {
      "text/plain": [
       "'3189'"
      ]
     },
     "execution_count": 13,
     "metadata": {},
     "output_type": "execute_result"
    }
   ],
   "source": [
    "Manager_holding['公司代碼'][131565]"
   ]
  },
  {
   "cell_type": "code",
   "execution_count": null,
   "id": "2569a46c",
   "metadata": {},
   "outputs": [],
   "source": []
  }
 ],
 "metadata": {
  "kernelspec": {
   "display_name": "Python 3 (ipykernel)",
   "language": "python",
   "name": "python3"
  },
  "language_info": {
   "codemirror_mode": {
    "name": "ipython",
    "version": 3
   },
   "file_extension": ".py",
   "mimetype": "text/x-python",
   "name": "python",
   "nbconvert_exporter": "python",
   "pygments_lexer": "ipython3",
   "version": "3.11.2"
  }
 },
 "nbformat": 4,
 "nbformat_minor": 5
}
